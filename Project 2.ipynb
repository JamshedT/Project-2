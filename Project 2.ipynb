{
 "cells": [
  {
   "cell_type": "code",
   "execution_count": 1,
   "metadata": {
    "collapsed": true
   },
   "outputs": [],
   "source": [
    "import pandas as pd\n",
    "from matplotlib import pyplot as plt\n",
    "import seaborn as sns\n",
    "\n",
    "%matplotlib inline"
   ]
  },
  {
   "cell_type": "code",
   "execution_count": 2,
   "metadata": {},
   "outputs": [
    {
     "name": "stderr",
     "output_type": "stream",
     "text": [
      "C:\\ProgramData\\Anaconda3\\lib\\site-packages\\IPython\\core\\interactiveshell.py:2698: DtypeWarning: Columns (18,19,20,21,22,23,24,33,34,35,37,43,45) have mixed types. Specify dtype option on import or set low_memory=False.\n",
      "  interactivity=interactivity, compiler=compiler, result=result)\n"
     ]
    }
   ],
   "source": [
    "location = \"DC_Properties.csv\"\n",
    "df = pd.read_csv(location)"
   ]
  },
  {
   "cell_type": "code",
   "execution_count": 3,
   "metadata": {},
   "outputs": [
    {
     "data": {
      "text/plain": [
       "Index(['Unnamed: 0', 'BATHRM', 'HF_BATHRM', 'HEAT', 'AC', 'NUM_UNITS', 'ROOMS',\n",
       "       'BEDRM', 'AYB', 'YR_RMDL', 'EYB', 'STORIES', 'SALEDATE', 'PRICE',\n",
       "       'QUALIFIED', 'SALE_NUM', 'GBA', 'BLDG_NUM', 'STYLE', 'STRUCT', 'GRADE',\n",
       "       'CNDTN', 'EXTWALL', 'ROOF', 'INTWALL', 'KITCHENS', 'FIREPLACES',\n",
       "       'USECODE', 'LANDAREA', 'GIS_LAST_MOD_DTTM', 'SOURCE', 'CMPLX_NUM',\n",
       "       'LIVING_GBA', 'FULLADDRESS', 'CITY', 'STATE', 'ZIPCODE', 'NATIONALGRID',\n",
       "       'LATITUDE', 'LONGITUDE', 'ASSESSMENT_NBHD', 'ASSESSMENT_SUBNBHD',\n",
       "       'CENSUS_TRACT', 'CENSUS_BLOCK', 'WARD', 'SQUARE', 'X', 'Y', 'QUADRANT'],\n",
       "      dtype='object')"
      ]
     },
     "execution_count": 3,
     "metadata": {},
     "output_type": "execute_result"
    }
   ],
   "source": [
    "df.columns"
   ]
  },
  {
   "cell_type": "code",
   "execution_count": 7,
   "metadata": {},
   "outputs": [
    {
     "data": {
      "text/html": [
       "<div>\n",
       "<style>\n",
       "    .dataframe thead tr:only-child th {\n",
       "        text-align: right;\n",
       "    }\n",
       "\n",
       "    .dataframe thead th {\n",
       "        text-align: left;\n",
       "    }\n",
       "\n",
       "    .dataframe tbody tr th {\n",
       "        vertical-align: top;\n",
       "    }\n",
       "</style>\n",
       "<table border=\"1\" class=\"dataframe\">\n",
       "  <thead>\n",
       "    <tr style=\"text-align: right;\">\n",
       "      <th></th>\n",
       "      <th>Unnamed: 0</th>\n",
       "      <th>BATHRM</th>\n",
       "      <th>HF_BATHRM</th>\n",
       "      <th>HEAT</th>\n",
       "      <th>AC</th>\n",
       "      <th>NUM_UNITS</th>\n",
       "      <th>ROOMS</th>\n",
       "      <th>BEDRM</th>\n",
       "      <th>AYB</th>\n",
       "      <th>EYB</th>\n",
       "      <th>...</th>\n",
       "      <th>LONGITUDE</th>\n",
       "      <th>ASSESSMENT_NBHD</th>\n",
       "      <th>ASSESSMENT_SUBNBHD</th>\n",
       "      <th>CENSUS_TRACT</th>\n",
       "      <th>CENSUS_BLOCK</th>\n",
       "      <th>WARD</th>\n",
       "      <th>SQUARE</th>\n",
       "      <th>X</th>\n",
       "      <th>Y</th>\n",
       "      <th>QUADRANT</th>\n",
       "    </tr>\n",
       "    <tr>\n",
       "      <th>YR_RMDL</th>\n",
       "      <th></th>\n",
       "      <th></th>\n",
       "      <th></th>\n",
       "      <th></th>\n",
       "      <th></th>\n",
       "      <th></th>\n",
       "      <th></th>\n",
       "      <th></th>\n",
       "      <th></th>\n",
       "      <th></th>\n",
       "      <th></th>\n",
       "      <th></th>\n",
       "      <th></th>\n",
       "      <th></th>\n",
       "      <th></th>\n",
       "      <th></th>\n",
       "      <th></th>\n",
       "      <th></th>\n",
       "      <th></th>\n",
       "      <th></th>\n",
       "      <th></th>\n",
       "    </tr>\n",
       "  </thead>\n",
       "  <tbody>\n",
       "    <tr>\n",
       "      <th>1988.0</th>\n",
       "      <td>0</td>\n",
       "      <td>4</td>\n",
       "      <td>0</td>\n",
       "      <td>Warm Cool</td>\n",
       "      <td>Y</td>\n",
       "      <td>2.0</td>\n",
       "      <td>8</td>\n",
       "      <td>4</td>\n",
       "      <td>1910.0</td>\n",
       "      <td>1972</td>\n",
       "      <td>...</td>\n",
       "      <td>-77.040832</td>\n",
       "      <td>Old City 2</td>\n",
       "      <td>040 D Old City 2</td>\n",
       "      <td>4201.0</td>\n",
       "      <td>004201 2006</td>\n",
       "      <td>Ward 2</td>\n",
       "      <td>152</td>\n",
       "      <td>-77.040429</td>\n",
       "      <td>38.914881</td>\n",
       "      <td>NW</td>\n",
       "    </tr>\n",
       "    <tr>\n",
       "      <th>2007.0</th>\n",
       "      <td>1</td>\n",
       "      <td>3</td>\n",
       "      <td>1</td>\n",
       "      <td>Warm Cool</td>\n",
       "      <td>Y</td>\n",
       "      <td>2.0</td>\n",
       "      <td>11</td>\n",
       "      <td>5</td>\n",
       "      <td>1898.0</td>\n",
       "      <td>1972</td>\n",
       "      <td>...</td>\n",
       "      <td>-77.040764</td>\n",
       "      <td>Old City 2</td>\n",
       "      <td>040 D Old City 2</td>\n",
       "      <td>4201.0</td>\n",
       "      <td>004201 2006</td>\n",
       "      <td>Ward 2</td>\n",
       "      <td>152</td>\n",
       "      <td>-77.040429</td>\n",
       "      <td>38.914881</td>\n",
       "      <td>NW</td>\n",
       "    </tr>\n",
       "    <tr>\n",
       "      <th>2009.0</th>\n",
       "      <td>2</td>\n",
       "      <td>3</td>\n",
       "      <td>1</td>\n",
       "      <td>Hot Water Rad</td>\n",
       "      <td>Y</td>\n",
       "      <td>2.0</td>\n",
       "      <td>9</td>\n",
       "      <td>5</td>\n",
       "      <td>1910.0</td>\n",
       "      <td>1984</td>\n",
       "      <td>...</td>\n",
       "      <td>-77.040678</td>\n",
       "      <td>Old City 2</td>\n",
       "      <td>040 D Old City 2</td>\n",
       "      <td>4201.0</td>\n",
       "      <td>004201 2006</td>\n",
       "      <td>Ward 2</td>\n",
       "      <td>152</td>\n",
       "      <td>-77.040429</td>\n",
       "      <td>38.914881</td>\n",
       "      <td>NW</td>\n",
       "    </tr>\n",
       "    <tr>\n",
       "      <th>2003.0</th>\n",
       "      <td>3</td>\n",
       "      <td>3</td>\n",
       "      <td>1</td>\n",
       "      <td>Hot Water Rad</td>\n",
       "      <td>Y</td>\n",
       "      <td>2.0</td>\n",
       "      <td>8</td>\n",
       "      <td>5</td>\n",
       "      <td>1900.0</td>\n",
       "      <td>1984</td>\n",
       "      <td>...</td>\n",
       "      <td>-77.040629</td>\n",
       "      <td>Old City 2</td>\n",
       "      <td>040 D Old City 2</td>\n",
       "      <td>4201.0</td>\n",
       "      <td>004201 2006</td>\n",
       "      <td>Ward 2</td>\n",
       "      <td>152</td>\n",
       "      <td>-77.040429</td>\n",
       "      <td>38.914881</td>\n",
       "      <td>NW</td>\n",
       "    </tr>\n",
       "    <tr>\n",
       "      <th>2012.0</th>\n",
       "      <td>4</td>\n",
       "      <td>2</td>\n",
       "      <td>1</td>\n",
       "      <td>Warm Cool</td>\n",
       "      <td>Y</td>\n",
       "      <td>1.0</td>\n",
       "      <td>11</td>\n",
       "      <td>3</td>\n",
       "      <td>1913.0</td>\n",
       "      <td>1985</td>\n",
       "      <td>...</td>\n",
       "      <td>-77.039361</td>\n",
       "      <td>Old City 2</td>\n",
       "      <td>040 D Old City 2</td>\n",
       "      <td>4201.0</td>\n",
       "      <td>004201 2006</td>\n",
       "      <td>Ward 2</td>\n",
       "      <td>152</td>\n",
       "      <td>-77.040429</td>\n",
       "      <td>38.914881</td>\n",
       "      <td>NW</td>\n",
       "    </tr>\n",
       "  </tbody>\n",
       "</table>\n",
       "<p>5 rows × 48 columns</p>\n",
       "</div>"
      ],
      "text/plain": [
       "         Unnamed: 0  BATHRM  HF_BATHRM           HEAT AC  NUM_UNITS  ROOMS  \\\n",
       "YR_RMDL                                                                      \n",
       "1988.0            0       4          0      Warm Cool  Y        2.0      8   \n",
       "2007.0            1       3          1      Warm Cool  Y        2.0     11   \n",
       "2009.0            2       3          1  Hot Water Rad  Y        2.0      9   \n",
       "2003.0            3       3          1  Hot Water Rad  Y        2.0      8   \n",
       "2012.0            4       2          1      Warm Cool  Y        1.0     11   \n",
       "\n",
       "         BEDRM     AYB   EYB   ...     LONGITUDE ASSESSMENT_NBHD  \\\n",
       "YR_RMDL                        ...                                 \n",
       "1988.0       4  1910.0  1972   ...    -77.040832      Old City 2   \n",
       "2007.0       5  1898.0  1972   ...    -77.040764      Old City 2   \n",
       "2009.0       5  1910.0  1984   ...    -77.040678      Old City 2   \n",
       "2003.0       5  1900.0  1984   ...    -77.040629      Old City 2   \n",
       "2012.0       3  1913.0  1985   ...    -77.039361      Old City 2   \n",
       "\n",
       "         ASSESSMENT_SUBNBHD CENSUS_TRACT  CENSUS_BLOCK    WARD  SQUARE  \\\n",
       "YR_RMDL                                                                  \n",
       "1988.0     040 D Old City 2       4201.0   004201 2006  Ward 2     152   \n",
       "2007.0     040 D Old City 2       4201.0   004201 2006  Ward 2     152   \n",
       "2009.0     040 D Old City 2       4201.0   004201 2006  Ward 2     152   \n",
       "2003.0     040 D Old City 2       4201.0   004201 2006  Ward 2     152   \n",
       "2012.0     040 D Old City 2       4201.0   004201 2006  Ward 2     152   \n",
       "\n",
       "                 X          Y QUADRANT  \n",
       "YR_RMDL                                 \n",
       "1988.0  -77.040429  38.914881       NW  \n",
       "2007.0  -77.040429  38.914881       NW  \n",
       "2009.0  -77.040429  38.914881       NW  \n",
       "2003.0  -77.040429  38.914881       NW  \n",
       "2012.0  -77.040429  38.914881       NW  \n",
       "\n",
       "[5 rows x 48 columns]"
      ]
     },
     "execution_count": 7,
     "metadata": {},
     "output_type": "execute_result"
    }
   ],
   "source": [
    "df .head ()"
   ]
  },
  {
   "cell_type": "code",
   "execution_count": 8,
   "metadata": {},
   "outputs": [
    {
     "data": {
      "text/plain": [
       "<seaborn.axisgrid.FacetGrid at 0x1f16f7ca160>"
      ]
     },
     "execution_count": 8,
     "metadata": {},
     "output_type": "execute_result"
    },
    {
     "data": {
      "image/png": "[encoded data removed]",
      "text/plain": [
       "<matplotlib.figure.Figure at 0x1f16f7cab70>"
      ]
     },
     "metadata": {},
     "output_type": "display_data"
    }
   ],
   "source": [
    "sns.lmplot(x='BATHRM', y='PRICE', data=df, \n",
    "           fit_reg=False #remove regression line\n",
    "           )   #color by evolution stage"
   ]
  },
  {
   "cell_type": "code",
   "execution_count": 9,
   "metadata": {},
   "outputs": [
    {
     "data": {
      "text/plain": [
       "<matplotlib.axes._subplots.AxesSubplot at 0x1f16fbc0780>"
      ]
     },
     "execution_count": 9,
     "metadata": {},
     "output_type": "execute_result"
    },
    {
     "data": {
      "image/png": "[encoded data removed]",
      "text/plain": [
       "<matplotlib.figure.Figure at 0x1f16f89e9e8>"
      ]
     },
     "metadata": {},
     "output_type": "display_data"
    }
   ],
   "source": [
    "sns.boxplot(data=df)"
   ]
  },
  {
   "cell_type": "code",
   "execution_count": null,
   "metadata": {
    "collapsed": true
   },
   "outputs": [],
   "source": []
  }
 ],
 "metadata": {
  "kernelspec": {
   "display_name": "Python 3",
   "language": "python",
   "name": "python3"
  },
  "language_info": {
   "codemirror_mode": {
    "name": "ipython",
    "version": 3
   },
   "file_extension": ".py",
   "mimetype": "text/x-python",
   "name": "python",
   "nbconvert_exporter": "python",
   "pygments_lexer": "ipython3",
   "version": "3.6.3"
  }
 },
 "nbformat": 4,
 "nbformat_minor": 2
}
